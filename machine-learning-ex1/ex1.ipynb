{
 "cells": [
  {
   "cell_type": "markdown",
   "metadata": {},
   "source": [
    "# ML_Ng Homework 1\n",
    "\n",
    "*Don't forget to include matplotlib inline up top *"
   ]
  },
  {
   "cell_type": "code",
   "execution_count": 4,
   "metadata": {},
   "outputs": [],
   "source": [
    "import numpy as np\n",
    "import matplotlib.pyplot as plt\n",
    "%matplotlib inline"
   ]
  },
  {
   "cell_type": "code",
   "execution_count": 5,
   "metadata": {},
   "outputs": [
    {
     "name": "stdout",
     "output_type": "stream",
     "text": [
      "x = [[2.104e+03 3.000e+00]\n",
      " [1.600e+03 3.000e+00]\n",
      " [2.400e+03 3.000e+00]\n",
      " [1.416e+03 2.000e+00]\n",
      " [3.000e+03 4.000e+00]\n",
      " [1.985e+03 4.000e+00]\n",
      " [1.534e+03 3.000e+00]\n",
      " [1.427e+03 3.000e+00]\n",
      " [1.380e+03 3.000e+00]\n",
      " [1.494e+03 3.000e+00]], \n",
      " y = [[399900.]\n",
      " [329900.]\n",
      " [369000.]\n",
      " [232000.]\n",
      " [539900.]\n",
      " [299900.]\n",
      " [314900.]\n",
      " [198999.]\n",
      " [212000.]\n",
      " [242500.]]\n"
     ]
    }
   ],
   "source": [
    "data = np.loadtxt(\"../ex1data2.txt\", delimiter=',')\n",
    "X = data[:, :-1]\n",
    "y = data[:, -1:]\n",
    "m = y.size\n",
    "\n",
    "# % Print out first 10 examples for kicks\n",
    "print(f'x = {X[:10, :]}, \\n y = {y[:10]}')"
   ]
  },
  {
   "cell_type": "code",
   "execution_count": 6,
   "metadata": {},
   "outputs": [],
   "source": [
    "def feature_normalize(X):\n",
    "    X_norm = X\n",
    "    mu = np.zeros((1, X.shape[1]))\n",
    "    sigma = np.zeros((1, X.shape[1]))\n",
    "    mu = np.mean(X, axis=0)\n",
    "    sigma = np.std(X, axis=0)\n",
    "    X_norm = np.divide(np.subtract(X, mu), sigma)\n",
    "\n",
    "    return X_norm, mu, sigma"
   ]
  },
  {
   "cell_type": "code",
   "execution_count": 7,
   "metadata": {},
   "outputs": [],
   "source": [
    "# % Scale features and set them to zero mean\n",
    "X, mu, sigma = feature_normalize(X)\n",
    "\n",
    "# % Add intercept term to X\n",
    "X = np.append(X, np.ones((m, 1)), axis=1)"
   ]
  },
  {
   "cell_type": "markdown",
   "metadata": {},
   "source": [
    "## Part 2: Gradient Descent\n",
    "\n",
    "### Compute Cost Plot Helper"
   ]
  },
  {
   "cell_type": "code",
   "execution_count": 8,
   "metadata": {},
   "outputs": [],
   "source": [
    "def compute_cost_multi(X, y, theta):\n",
    "    m = y.size\n",
    "    J = 0\n",
    "    h = X.dot(theta)\n",
    "    J = 1 / (2 * m) * (h - y).T.dot(h - y)\n",
    "    return J\n"
   ]
  },
  {
   "cell_type": "markdown",
   "metadata": {},
   "source": [
    "### Gradient Descent Helper Fn"
   ]
  },
  {
   "cell_type": "code",
   "execution_count": 9,
   "metadata": {},
   "outputs": [],
   "source": [
    "def gradient_descent_multi(X, y, theta, alpha, num_iters):\n",
    "    m = y.size\n",
    "    J_history = np.zeros((num_iters, 1))\n",
    "\n",
    "    for i in range(0, num_iters):\n",
    "        h = X.dot(theta)\n",
    "        thetaNew = theta - (alpha * 1 / m * ((h - y).T.dot(X)).T)\n",
    "        theta = thetaNew\n",
    "\n",
    "        # Save the cost J in every iteration\n",
    "        J_history[i] = compute_cost_multi(X, y, theta)\n",
    "    return theta, J_history\n"
   ]
  },
  {
   "cell_type": "code",
   "execution_count": 10,
   "metadata": {},
   "outputs": [
    {
     "name": "stdout",
     "output_type": "stream",
     "text": [
      "Running gradient descent ...\n",
      "\n",
      "Theta computed from gradient descent: \n",
      "\n",
      " [[ 99411.44947359]\n",
      " [  3267.01285407]\n",
      " [334302.06399328]] \n",
      "\n",
      "\n",
      "\n"
     ]
    }
   ],
   "source": [
    "print('Running gradient descent ...\\n')\n",
    "\n",
    "# % Choose some alpha value\n",
    "alpha = 0.01\n",
    "num_iters = 400\n",
    "\n",
    "# % Init Theta and Run Gradient Descent\n",
    "theta = np.zeros((X.shape[1], 1))\n",
    "\n",
    "theta, J_history = gradient_descent_multi(X, y, theta, alpha, num_iters)\n",
    "\n",
    "# % Display gradient descent's result\n",
    "print('Theta computed from gradient descent: \\n')\n",
    "print(f' {theta} \\n')\n",
    "print('\\n')"
   ]
  },
  {
   "cell_type": "markdown",
   "metadata": {},
   "source": [
    "### Plot the Computed Cost of J over time"
   ]
  },
  {
   "cell_type": "code",
   "execution_count": 11,
   "metadata": {},
   "outputs": [
    {
     "data": {
      "image/png": "[encoded data removed]",
      "text/plain": [
       "<Figure size 432x288 with 1 Axes>"
      ]
     },
     "metadata": {},
     "output_type": "display_data"
    }
   ],
   "source": [
    "# plot the training loss and accuracy\n",
    "plt.style.use(\"ggplot\")\n",
    "plt.figure()\n",
    "plt.plot(np.arange(0, num_iters), J_history, label=\"error\")\n",
    "plt.title(\"Training Loss on Gradient Descent\")\n",
    "plt.xlabel(\"Epoch #\")\n",
    "plt.ylabel(\"Loss/Accuracy\")\n",
    "plt.legend(loc=\"lower left\")\n",
    "plt.show()"
   ]
  },
  {
   "cell_type": "markdown",
   "metadata": {},
   "source": [
    "### Test data for prediction"
   ]
  },
  {
   "cell_type": "code",
   "execution_count": 12,
   "metadata": {},
   "outputs": [
    {
     "name": "stdout",
     "output_type": "stream",
     "text": [
      "Predicted price of a 1650 sq-ft, 3 br house (using gradient descent):\n",
      " $289221.5473712181\n",
      "\n"
     ]
    }
   ],
   "source": [
    "# % Estimate the price of a 1650 sq - ft, 3 br house\n",
    "sample_house_X = np.array([1650, 3])\n",
    "s = (sample_house_X - mu) / sigma\n",
    "s = np.append(s, np.ones((1, 1)))\n",
    "price = s.dot(theta)[0]\n",
    "\n",
    "print(\n",
    "    f'Predicted price of a 1650 sq-ft, 3 br house (using gradient descent):\\n ${price}\\n')"
   ]
  },
  {
   "cell_type": "markdown",
   "metadata": {},
   "source": [
    "## Part 3: Normal Equations"
   ]
  },
  {
   "cell_type": "code",
   "execution_count": 13,
   "metadata": {},
   "outputs": [],
   "source": [
    "def normal_equation(X, y):\n",
    "    theta = np.zeros((X.shape[1], 1))\n",
    "    theta = np.linalg.pinv(X.T.dot(X)).dot(X.T).dot(y)\n",
    "    return theta"
   ]
  },
  {
   "cell_type": "code",
   "execution_count": 14,
   "metadata": {},
   "outputs": [
    {
     "name": "stdout",
     "output_type": "stream",
     "text": [
      "Solving with normal equations...\n",
      "\n",
      "Theta computed from the normal equations: \n",
      "\n",
      " [[  139.21067402]\n",
      " [-8738.01911233]\n",
      " [89597.9095428 ]] \n",
      "\n",
      "\n",
      "\n",
      "Predicted price of a 1650 sq-ft, 3 br house (using normal equation):\n",
      " $293081.4643348983\n",
      "\n"
     ]
    }
   ],
   "source": [
    "print('Solving with normal equations...\\n')\n",
    "\n",
    "data = np.loadtxt(\"../ex1data2.txt\", delimiter=',')\n",
    "X = data[:, :-1]\n",
    "y = data[:, -1:]\n",
    "m = y.size\n",
    "\n",
    "# % Add intercept term to X\n",
    "X = np.append(X, np.ones((m, 1)), axis=1)\n",
    "\n",
    "theta = normal_equation(X, y)\n",
    "\n",
    "# % Display normal equation's result\n",
    "print('Theta computed from the normal equations: \\n')\n",
    "print(f' {theta} \\n')\n",
    "print('\\n')\n",
    "\n",
    "# % Estimate the price of a 1650 sq - ft, 3 br house\n",
    "s = np.array([1650, 3, 1])\n",
    "price = s.dot(theta)[0]\n",
    "\n",
    "print(\n",
    "    f'Predicted price of a 1650 sq-ft, 3 br house (using normal equation):\\n ${price}\\n')"
   ]
  }
 ],
 "metadata": {
  "kernelspec": {
   "display_name": "Python 3",
   "language": "python",
   "name": "python3"
  },
  "language_info": {
   "codemirror_mode": {
    "name": "ipython",
    "version": 3
   },
   "file_extension": ".py",
   "mimetype": "text/x-python",
   "name": "python",
   "nbconvert_exporter": "python",
   "pygments_lexer": "ipython3",
   "version": "3.6.5"
  }
 },
 "nbformat": 4,
 "nbformat_minor": 2
}
